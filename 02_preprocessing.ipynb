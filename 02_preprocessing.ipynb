{
  "nbformat": 4,
  "nbformat_minor": 0,
  "metadata": {
    "colab": {
      "provenance": [],
      "authorship_tag": "ABX9TyOfODZnIa1N2ECLw+a6gO3n",
      "include_colab_link": true
    },
    "kernelspec": {
      "name": "python3",
      "display_name": "Python 3"
    },
    "language_info": {
      "name": "python"
    }
  },
  "cells": [
    {
      "cell_type": "markdown",
      "metadata": {
        "id": "view-in-github",
        "colab_type": "text"
      },
      "source": [
        "<a href=\"https://colab.research.google.com/github/win-eva/EGFR-TKI-Docking-Analysis/blob/main/02_preprocessing.ipynb\" target=\"_parent\"><img src=\"https://colab.research.google.com/assets/colab-badge.svg\" alt=\"Open In Colab\"/></a>"
      ]
    },
    {
      "cell_type": "markdown",
      "source": [
        "# **Preprocessing**\n",
        "## 1. Ligand Preparation\n",
        "Ligand preprocessing was performed locally on macOS, as certain RDKit and Meeko functions were either incompatible with or unstable in Google Colab.\n",
        "### 1.1 Environment Setup\n",
        "A dedicated conda environment (`chem`) was created with RDKit, pandas, numpy and Meeko installed:"
      ],
      "metadata": {
        "id": "P5wAiSd7WvmU"
      }
    },
    {
      "cell_type": "code",
      "source": [
        "#create and activate environment with ligprep_env.yml file\n",
        "conda env create -f ligprep_env.yml\n",
        "\n",
        "conda activate chem"
      ],
      "metadata": {
        "id": "FCNC_heB57e6"
      },
      "execution_count": null,
      "outputs": []
    },
    {
      "cell_type": "markdown",
      "source": [
        "### 1.2 Processing\n",
        "Ligand SMILES read in Python, duplicates removed and each ligand converted into a 3D `.pdbqt` file. During this process: hydrogens added, and torsions and charges prepared using RDKit and Meeko."
      ],
      "metadata": {
        "id": "V5mDnwB9taHF"
      }
    },
    {
      "cell_type": "code",
      "source": [
        "import os\n",
        "import pandas as pd\n",
        "from rdkit import Chem\n",
        "from rdkit.Chem import AllChem\n",
        "from meeko import MoleculePreparation"
      ],
      "metadata": {
        "id": "OHrkNjgpuZtq"
      },
      "execution_count": null,
      "outputs": []
    },
    {
      "cell_type": "code",
      "source": [
        "csv_file = \"ligands_smiles.csv\""
      ],
      "metadata": {
        "id": "Q_4qCK33uDI1"
      },
      "execution_count": null,
      "outputs": []
    },
    {
      "cell_type": "code",
      "source": [
        "df = pd.read_csv(csv_file)\n",
        "df_unique = df.drop_duplicates(subset=['canonical_smiles'])\n",
        "df_unique.reset_index(drop=True, inplace=True)"
      ],
      "metadata": {
        "id": "8SrPGoI7XZsA"
      },
      "execution_count": null,
      "outputs": []
    },
    {
      "cell_type": "code",
      "source": [
        "#create directory for ligands\n",
        "os.makedirs(\"ligand_pdbqt\", exist_ok=True)"
      ],
      "metadata": {
        "id": "EVaPDuQzuIqW"
      },
      "execution_count": null,
      "outputs": []
    },
    {
      "cell_type": "code",
      "source": [
        "#converts SMILES to 3D structures; adds hydrogens, prepares torsions and charges,\n",
        "#and saves each ligand as a .pdbqt file ready for AutoDock Vina\n",
        "for idx, row in df_unique.iterrows():\n",
        "    name = row['name']\n",
        "    smiles = row['canonical_smiles']\n",
        "    mol = Chem.MolFromSmiles(smiles)\n",
        "    mol = Chem.AddHs(mol)\n",
        "    AllChem.EmbedMolecule(mol, AllChem.ETKDG())\n",
        "    prep = MoleculePreparation()\n",
        "    prep.prepare(mol)\n",
        "    pdbqt_path = f\"ligand_pdbqt/{name}.pdbqt\"\n",
        "    prep.write_pdbqt_file(pdbqt_path)\n",
        "    print(f\"Saved {pdbqt_path}\")"
      ],
      "metadata": {
        "id": "S0ebPZ5buKN1"
      },
      "execution_count": null,
      "outputs": []
    },
    {
      "cell_type": "markdown",
      "source": [
        "## 2. Protein Preparation\n",
        "### 2.1 PyMOL Preprocessing\n",
        "The downloaded EGFR PDB structures were preprocessed in PyMOL to remove ions, bound ligands and water molecules. Cleaned structures were saved with the suffix `_nowater.pdb`.\n",
        "\n",
        "### 2.2 Environment Setup for MGLTools\n",
        "MGLTools (version 1.5.7 Patch 1; https://ccsb.scripps.edu/mgltools/downloads) was used to convert the cleaned `.pdb` files into .pdbqt format for docking.\n",
        "\n",
        "Receptor preparation was performed in a Google Cloud Linux environment, as this provided a stable platform for running MGLTools after other setups (Google Colab and macOS) proved incompatible."
      ],
      "metadata": {
        "id": "8nswz6KC5D7q"
      }
    },
    {
      "cell_type": "code",
      "source": [
        "#upload requirements.txt and install environment\n",
        "!pip install -r requirements.txt"
      ],
      "metadata": {
        "id": "y0Bc2uGj3epQ"
      },
      "execution_count": null,
      "outputs": []
    },
    {
      "cell_type": "code",
      "source": [
        "#create directories for protein files\n",
        "mkdir -p ~/receptors/pdb_files\n",
        "mkdir -p ~/receptors/receptors_pdbqt\n",
        "\n",
        "#upload .pdb files first\n",
        "#then move preprocessed .pdb files into working directory\n",
        "mv ~/EGFR_*_nowater.pdb ~/receptors/pdb_files/\n",
        "\n",
        "#upload and extract MGLTools\n",
        "tar -xvzf mgltools_x86_64Linux2_1.5.7p1.tar.gz\n",
        "cd mgltools_x86_64Linux2_1.5.7\n",
        "source ./initMGLtools.sh"
      ],
      "metadata": {
        "id": "Iy--PDAS63C-"
      },
      "execution_count": null,
      "outputs": []
    },
    {
      "cell_type": "markdown",
      "source": [
        "### 2.3 Conversion to `.pdbqt`\n",
        "Each receptor converted to `.pdbqt` using the `prepare_receptor4.py` script from MGLTools. Repeated for every PDB file across all four receptor types:"
      ],
      "metadata": {
        "id": "52rCcegHZyyp"
      }
    },
    {
      "cell_type": "code",
      "source": [
        "#wildtype\n",
        "~/mgltools_x86_64Linux2_1.5.7/bin/pythonsh \\\n",
        "~/mgltools_x86_64Linux2_1.5.7/MGLToolsPckgs/AutoDockTools/Utilities24/prepare_receptor4.py \\\n",
        "-r ~/receptors/pdb_files/EGFR_wt_*_nowater.pdb \\\n",
        "-o ~/receptors/receptors_pdbqt/EGFR_wt_*_nowater.pdbqt\n",
        "\n",
        "#L858R mutant\n",
        "~/mgltools_x86_64Linux2_1.5.7/bin/pythonsh \\\n",
        "~/mgltools_x86_64Linux2_1.5.7/MGLToolsPckgs/AutoDockTools/Utilities24/prepare_receptor4.py \\\n",
        "-r ~/receptors/pdb_files/EGFR_L858R_*_nowater.pdb \\\n",
        "-o ~/receptors/receptors_pdbqt/EGFR_L858R_*_nowater.pdbqt\n",
        "\n",
        "#T790M mutant\n",
        "~/mgltools_x86_64Linux2_1.5.7/bin/pythonsh \\\n",
        "~/mgltools_x86_64Linux2_1.5.7/MGLToolsPckgs/AutoDockTools/Utilities24/prepare_receptor4.py \\\n",
        "-r ~/receptors/pdb_files/EGFR_T790M_*_nowater.pdb \\\n",
        "-o ~/receptors/receptors_pdbqt/EGFR_T790M_*_nowater.pdbqt\n",
        "\n",
        "#Exon20 insertion mutant\n",
        "~/mgltools_x86_64Linux2_1.5.7/bin/pythonsh \\\n",
        "~/mgltools_x86_64Linux2_1.5.7/MGLToolsPckgs/AutoDockTools/Utilities24/prepare_receptor4.py \\\n",
        "-r ~/receptors/pdb_files/EGFR_exon20_*_nowater.pdb \\\n",
        "-o ~/receptors/receptors_pdbqt/EGFR_exon20_*_nowater.pdbqt"
      ],
      "metadata": {
        "id": "NiEBkLem7eUD"
      },
      "execution_count": null,
      "outputs": []
    },
    {
      "cell_type": "markdown",
      "source": [
        "The resulting `.pdbqt` files were saved in the `receptors_pdbqt` folder, downloaded locally, and later uploaded to Google Colab for docking."
      ],
      "metadata": {
        "id": "xX4rJr5WaNjL"
      }
    }
  ]
}