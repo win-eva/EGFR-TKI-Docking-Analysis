{
  "nbformat": 4,
  "nbformat_minor": 0,
  "metadata": {
    "colab": {
      "provenance": []
    },
    "kernelspec": {
      "name": "python3",
      "display_name": "Python 3"
    },
    "language_info": {
      "name": "python"
    }
  },
  "cells": [
    {
      "cell_type": "markdown",
      "source": [
        "# **Docking**\n",
        "## 1. Vina Setup\n",
        "\n",
        "*   Place the AutoDock Vina executable (v1.2.7; https://github.com/ccsb-scripps/AutoDock-Vina/releases) in the working folder (`contents`).\n",
        "*   Import ligand and receptor `.pdbqt` files from the preprocessing step.\n",
        "\n",
        "## 2. Docking Grid Centres\n",
        "Docking grid centres from cleaned PyMOL structures, with water and ions removed.\n",
        "\n",
        "The following table lists the coordinates for each receptor, representing the centre of the docking box that covers the ATP-binding site:\n",
        "\n",
        "\n",
        "| Receptor Type       | PDB ID | Centre (Å)               |\n",
        "|--------------------|--------|--------------------------|\n",
        "| **Wildtype**       | 4WKQ   | [1.257, 194.291, 20.788] |\n",
        "|                    | 4G5J   | [50.680, 1.374, -21.036] |\n",
        "|                    | 8F1X   | [-0.520, 51.458, -19.642] |\n",
        "| **L858R**          | 2ITZ   | [-51.712, -1.102, -22.327] |\n",
        "|                    | 6JWL   | [-49.947, -0.565, -18.541] |\n",
        "|                    | 2ITT   | [-51.800, -0.285, -19.735] |\n",
        "| **T790M**          | 6JX0   | [55.262, 43.520, 126.579] |\n",
        "|                    | 4G5P   | [-10.922, 19.113, 31.245] |\n",
        "|                    | 5GMP   | [0.396, -50.840, 126.002] |\n",
        "| **Exon20 Insertion** | 9GL8  | [-1.187, 17.249, -10.016] |\n",
        "|                    | 4LRM   | [48.884, 361.406, 32.215] |\n",
        "|                    | 9GC6   | [32.816, -24.714, 47.255] |\n",
        "\n",
        "\n",
        "## 3. Organise Ligands and Receptors\n",
        "Ligands and receptors are organised into separate folders (`ligand_pdbqt` and `proteins_pdbqt`), and a `docking_results` folder is created to store outputs.\n",
        "\n",
        "The script moves each `.pdbqt` file to its respective folder and flags any missing files. This ensures the workflow remains structured and allows all ligand–receptor combinations to be processed efficiently."
      ],
      "metadata": {
        "id": "R8tdf4ZykLuY"
      }
    },
    {
      "cell_type": "code",
      "execution_count": null,
      "metadata": {
        "id": "Nf4CJTgUj3x2"
      },
      "outputs": [],
      "source": [
        "import os\n",
        "import subprocess\n",
        "import shutil"
      ]
    },
    {
      "cell_type": "code",
      "source": [
        "# Make Vina executable runnable\n",
        "vina_executable = \"./vina_1.2.7_linux_x86_64\"\n",
        "os.chmod(vina_executable, 0o755)"
      ],
      "metadata": {
        "id": "os7RzGcVmJjY"
      },
      "execution_count": null,
      "outputs": []
    },
    {
      "cell_type": "code",
      "source": [
        "# Create directories for ligands, receptors, and results\n",
        "os.makedirs(\"ligand_pdbqt\", exist_ok=True)\n",
        "os.makedirs(\"proteins_pdbqt\", exist_ok=True)\n",
        "os.makedirs(\"docking_results\", exist_ok=True)"
      ],
      "metadata": {
        "id": "vLaC0EvJ6Pyb"
      },
      "execution_count": null,
      "outputs": []
    },
    {
      "cell_type": "code",
      "source": [
        "# Define ligands and receptors\n",
        "ligand_files = [\n",
        "    \"Gefitinib.pdbqt\",\n",
        "    \"Erlotinib.pdbqt\",\n",
        "    \"Afatinib.pdbqt\",\n",
        "    \"Mobocertinib.pdbqt\",\n",
        "    \"Osimertinib.pdbqt\",\n",
        "    \"Aspirin.pdbqt\",\n",
        "    \"Caffeine.pdbqt\",\n",
        "    \"Ibuprofen.pdbqt\"\n",
        "]\n",
        "\n",
        "receptor_files = [\n",
        "    # Wildtype\n",
        "    \"EGFR_wt_4WKQ_nowater.pdbqt\",\n",
        "    \"EGFR_wt_4G5J_nowater.pdbqt\",\n",
        "    \"EGFR_wt_8F1X_nowater.pdbqt\",\n",
        "    # L858R\n",
        "    \"EGFR_L858R_2ITZ_nowater.pdbqt\",\n",
        "    \"EGFR_L858R_6JWL_nowater.pdbqt\",\n",
        "    \"EGFR_L858R_2ITT_nowater.pdbqt\",\n",
        "    # T790M\n",
        "    \"EGFR_T790M_6JX0_nowater.pdbqt\",\n",
        "    \"EGFR_T790M_4G5P_nowater.pdbqt\",\n",
        "    \"EGFR_T790M_5GMP_nowater.pdbqt\",\n",
        "    # Exon20 Insertion\n",
        "    \"EGFR_exon20_9GL8_nowater.pdbqt\",\n",
        "    \"EGFR_exon20_4LRM_nowater.pdbqt\",\n",
        "    \"EGFR_exon20_9GC6_nowater.pdbqt\"\n",
        "]"
      ],
      "metadata": {
        "id": "gEpmaJN_mmPk"
      },
      "execution_count": null,
      "outputs": []
    },
    {
      "cell_type": "code",
      "source": [
        "# Move ligand files\n",
        "for f in ligand_files:\n",
        "    src = f\n",
        "    dst = os.path.join(\"ligand_pdbqt\", f)\n",
        "    if os.path.exists(src):\n",
        "        shutil.move(src, dst)\n",
        "    else:\n",
        "        print(f\"Ligand not found: {f}\")\n",
        "\n",
        "# Move receptor files\n",
        "for f in receptor_files:\n",
        "    src = f\n",
        "    dst = os.path.join(\"proteins_pdbqt\", f)\n",
        "    if os.path.exists(src):\n",
        "        shutil.move(src, dst)\n",
        "    else:\n",
        "        print(f\"Receptor not found: {f}\")"
      ],
      "metadata": {
        "id": "wp4eKwEXmsaT"
      },
      "execution_count": null,
      "outputs": []
    },
    {
      "cell_type": "markdown",
      "source": [
        "## 4. Define Docking Boxes\n",
        "Each receptor is assigned a cubic docking box of 20 Å per side, centred on coordinates determined from the cleaned PyMOL structures. This box fully encompasses the ATP-binding site while allowing ligands sufficient freedom to adopt flexible conformations.\n",
        "\n",
        "The centres and dimensions are stored in a dictionary for automated use in the docking script, maintaining consistency across all docking runs."
      ],
      "metadata": {
        "id": "wix2HitVACWq"
      }
    },
    {
      "cell_type": "code",
      "source": [
        "docking_boxes = {\n",
        "    # Wildtype\n",
        "    \"EGFR_wt_4WKQ_nowater.pdbqt\": {\"center\": [1.257, 194.291, 20.788], \"size\": [20, 20, 20]},\n",
        "    \"EGFR_wt_4G5J_nowater.pdbqt\": {\"center\": [50.680, 1.374, -21.036], \"size\": [20, 20, 20]},\n",
        "    \"EGFR_wt_8F1X_nowater.pdbqt\": {\"center\": [-0.520, 51.458, -19.642], \"size\": [20, 20, 20]},\n",
        "\n",
        "    # L858R\n",
        "    \"EGFR_L858R_2ITZ_nowater.pdbqt\": {\"center\": [-51.712, -1.102, -22.327], \"size\": [20, 20, 20]},\n",
        "    \"EGFR_L858R_6JWL_nowater.pdbqt\": {\"center\": [-49.947, -0.565, -18.541], \"size\": [20, 20, 20]},\n",
        "    \"EGFR_L858R_2ITT_nowater.pdbqt\": {\"center\": [-51.800, -0.285, -19.735], \"size\": [20, 20, 20]},\n",
        "\n",
        "    # T790M\n",
        "    \"EGFR_T790M_6JX0_nowater.pdbqt\": {\"center\": [55.262, 43.520, 126.579], \"size\": [20, 20, 20]},\n",
        "    \"EGFR_T790M_4G5P_nowater.pdbqt\": {\"center\": [-10.922, 19.113, 31.245], \"size\": [20, 20, 20]},\n",
        "    \"EGFR_T790M_5GMP_nowater.pdbqt\": {\"center\": [0.396, -50.840, 126.002], \"size\": [20, 20, 20]},\n",
        "\n",
        "    # Exon20 Insertion\n",
        "    \"EGFR_exon20_9GL8_nowater.pdbqt\": {\"center\": [-1.187, 17.249, -10.016], \"size\": [20, 20, 20]},\n",
        "    \"EGFR_exon20_4LRM_nowater.pdbqt\": {\"center\": [48.884, 361.406, 32.215], \"size\": [20, 20, 20]},\n",
        "    \"EGFR_exon20_9GC6_nowater.pdbqt\": {\"center\": [32.816, -24.714, 47.255], \"size\": [20, 20, 20]}\n",
        "}\n"
      ],
      "metadata": {
        "id": "x-7JjleVvvNU"
      },
      "execution_count": null,
      "outputs": []
    },
    {
      "cell_type": "markdown",
      "source": [
        "## 5. Run Docking with Vina\n",
        "Docking is performed for each ligand–receptor pair using AutoDock Vina. Exhaustiveness is set to 8, and only the top-scoring pose is retained per ligand.\n",
        "\n",
        "Outputs include the docked `.pdbqt` files and `.log` files containing predicted binding affinities and docking details.\n",
        "\n",
        "Progress messages and errors are printed to the console, allowing immediate identification of any failed runs and ensuring reproducibility."
      ],
      "metadata": {
        "id": "YU_H_yPeAJQ1"
      }
    },
    {
      "cell_type": "code",
      "source": [
        "for ligand in ligand_files:\n",
        "    ligand_path = os.path.join(\"ligand_pdbqt\", ligand)\n",
        "    if not os.path.exists(ligand_path):\n",
        "        print(f\"Ligand file missing: {ligand_path}\")\n",
        "        continue\n",
        "\n",
        "    for receptor in receptor_files:\n",
        "        receptor_path = os.path.join(\"proteins_pdbqt\", receptor)\n",
        "        if not os.path.exists(receptor_path):\n",
        "            print(f\"Receptor file missing: {receptor_path}\")\n",
        "            continue\n",
        "\n",
        "        box = docking_boxes[receptor]\n",
        "        cx, cy, cz = box[\"center\"]\n",
        "        sx, sy, sz = box[\"size\"]\n",
        "\n",
        "        out_file = os.path.join(\"docking_results\", f\"{ligand.split('.')[0]}_{receptor.split('.')[0]}.pdbqt\")\n",
        "        log_file = os.path.join(\"docking_results\", f\"{ligand.split('.')[0]}_{receptor.split('.')[0]}.log\")\n",
        "\n",
        "        cmd = [\n",
        "            vina_executable,\n",
        "            \"--receptor\", receptor_path,\n",
        "            \"--ligand\", ligand_path,\n",
        "            \"--center_x\", str(cx),\n",
        "            \"--center_y\", str(cy),\n",
        "            \"--center_z\", str(cz),\n",
        "            \"--size_x\", str(sx),\n",
        "            \"--size_y\", str(sy),\n",
        "            \"--size_z\", str(sz),\n",
        "            \"--out\", out_file,\n",
        "            \"--exhaustiveness\", \"8\",\n",
        "            \"--num_modes\", \"1\"\n",
        "        ]\n",
        "\n",
        "        print(f\"[DOCKING] {ligand} → {receptor}\")\n",
        "        with open(log_file, \"w\") as f:\n",
        "            try:\n",
        "                subprocess.run(cmd, stdout=f, stderr=subprocess.STDOUT, check=True)\n",
        "                print(f\"Saved {out_file}\")\n",
        "            except subprocess.CalledProcessError as e:\n",
        "                print(f\"Docking failed for {ligand} → {receptor}: {e}\")"
      ],
      "metadata": {
        "id": "rlXFYTjKnGaM"
      },
      "execution_count": null,
      "outputs": []
    }
  ]
}