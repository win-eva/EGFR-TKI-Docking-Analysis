{
  "nbformat": 4,
  "nbformat_minor": 0,
  "metadata": {
    "colab": {
      "provenance": [],
      "authorship_tag": "ABX9TyPIoCT8kFyaUwLZx5VMyEsJ",
      "include_colab_link": true
    },
    "kernelspec": {
      "name": "python3",
      "display_name": "Python 3"
    },
    "language_info": {
      "name": "python"
    }
  },
  "cells": [
    {
      "cell_type": "markdown",
      "metadata": {
        "id": "view-in-github",
        "colab_type": "text"
      },
      "source": [
        "<a href=\"https://colab.research.google.com/github/win-eva/EGFR-TKI-Docking-Analysis/blob/main/01_fetchdata.ipynb\" target=\"_parent\"><img src=\"https://colab.research.google.com/assets/colab-badge.svg\" alt=\"Open In Colab\"/></a>"
      ]
    },
    {
      "cell_type": "markdown",
      "source": [
        "# **Fetching Data for Analysis**\n",
        "## 1. EGFR Protein Structures\n",
        "\n",
        "\n",
        "| Mutation Class       | PDB ID | Ligand       | Generation | Notes                                                                 |\n",
        "|---------------------|--------|-------------|------------|-----------------------------------------------------------------------|\n",
        "| Wildtype            | 4WKQ   | Gefitinib   | 1st        |                                                                       |\n",
        "| Wildtype            | 4G5J   | Afatinib    | 2nd        |                                                                       |\n",
        "| Wildtype            | 8F1X   | Mobocertinib| 3rd        |                                                                       |\n",
        "| L858R               | 2ITZ   | Gefitinib   | 1st        |                                                                       |\n",
        "| L858R               | 6JWL   | Osimertinib | 3rd        |                                                                       |\n",
        "| L858R               | 2ITT   | AEE788      | 2nd        | co-crystallised with AEE788, a second-generation EGFR TKI analogous to Afatinib |\n",
        "| T790M               | 6JX0   | Osimertinib | 3rd        |                                                                       |\n",
        "| T790M               | 4G5P   | Afatinib    | 2nd        |                                                                       |\n",
        "| T790M               | 5GMP   | XTF-262     | 1st/2nd*   | surrogate for T790M-specific hinge binding due to limited co-crystal structures|\n",
        "| Exon20 Insertion    | 4LRM   | PD168393    | 1st        | used as reference for first-generation inhibitors                                 |\n",
        "| Exon20 Insertion    | 9GC6   | A1IZ9       | 2nd/3rd    | represents second- and third-generation inhibitors                            |\n",
        "| Exon20 Insertion    | 9GL8   | STX-721     | 3rd        | shows mutant-induced pocket geometry                               |\n",
        "\n",
        "\\*XTF-262 functions as a surrogate ligand to model hinge binding for early-generation TKIs in the context of the T790M mutation.\n",
        "\n",
        "\n"
      ],
      "metadata": {
        "id": "cbPM4tJEm8Xr"
      }
    },
    {
      "cell_type": "code",
      "source": [
        "#upload requirements.txt and install environment\n",
        "!pip install -r requirements.txt"
      ],
      "metadata": {
        "id": "yNLj3z4w3rDu"
      },
      "execution_count": null,
      "outputs": []
    },
    {
      "cell_type": "markdown",
      "source": [
        "### Downloading PDB Structures\n",
        "\n",
        "Downloading all selected EGFR receptor structures to the `proteins/` folder automatically."
      ],
      "metadata": {
        "id": "KowKwCEdfWYc"
      }
    },
    {
      "cell_type": "code",
      "source": [
        "import urllib.request\n",
        "import urllib.error\n",
        "import os\n",
        "\n",
        "#create folder to store PDBs\n",
        "os.makedirs(\"proteins\", exist_ok=True)\n",
        "\n",
        "#list of PDBs to fetch\n",
        "pdb_ids = {\n",
        "    \"EGFR_wt_4WKQ\": \"4WKQ\",\n",
        "    \"EGFR_wt_4G5J\": \"4G5J\",\n",
        "    \"EGFR_wt_8F1X\": \"8F1X\",\n",
        "    \"EGFR_L858R_2ITZ\": \"2ITZ\",\n",
        "    \"EGFR_L858R_6JWL\": \"6JWL\",\n",
        "    \"EGFR_L858R_2ITT\": \"2ITT\",\n",
        "    \"EGFR_T790M_6JX0\": \"6JX0\",\n",
        "    \"EGFR_T790M_4G5P\": \"4G5P\",\n",
        "    \"EGFR_T790M_5GMP\": \"5GMP\",\n",
        "    \"EGFR_exon20_4LRM\": \"4LRM\",\n",
        "#     Note: The two other Exon20 PDB structures (9GL8, 9GC6) were only available\n",
        "#     in PDBx/mmCIF format --> have to fetch it manually.\n",
        "}\n",
        "\n",
        "#downloading PDBs\n",
        "for name, pdb_id in pdb_ids.items():\n",
        "     pdb_id = pdb_id.upper()\n",
        "     pdb_file = f\"proteins/{name}.pdb\"\n",
        "     url = f\"https://files.rcsb.org/download/{pdb_id}.pdb\"\n",
        "\n",
        "     try:\n",
        "         urllib.request.urlretrieve(url, pdb_file)\n",
        "         print(f\"Downloaded {pdb_file}\")\n",
        "     except urllib.error.HTTPError as e:\n",
        "         if e.code == 404:\n",
        "             print(f\"PDB ID {pdb_id} not found on RCSB. Skipping {name}.\")\n",
        "         else:\n",
        "             print(f\"Failed to download {pdb_id}: {e}\")\n",
        "\n",
        "print(\"Protein download process completed\")"
      ],
      "metadata": {
        "id": "4AfsgRsXnHu_"
      },
      "execution_count": null,
      "outputs": []
    },
    {
      "cell_type": "markdown",
      "source": [
        "Two Exon20 Insertion structures (9GC6, 9GL8) were available only in PDBx/mmCIF format. Due to limitations in automated conversion on Google Colab, these files were manually converted from `.cif` to `.pdb` using PyMOL to ensure consistency and avoid file corruption."
      ],
      "metadata": {
        "id": "ZzFxfqqIS2QQ"
      }
    },
    {
      "cell_type": "markdown",
      "source": [
        "## 2. Ligand Structures\n",
        "\n",
        "Ligands were retrieved from ChEMBL. Controls were manually fetched (unable to fetch them through this code).\n",
        "\n",
        "**TKI ligands:** Gefitinib, Erlotinib, Afatinib, Mobocertinib, Osimertinib\n",
        "\n",
        "**Controls:** Aspirin, Caffeine, Ibuprofen\n",
        "\n",
        "Generating a CSV file, `ligands_smiles.csv`, containing canonical SMILES strings and associated activity data:"
      ],
      "metadata": {
        "id": "wZvQfLp1pPpG"
      }
    },
    {
      "cell_type": "code",
      "execution_count": null,
      "metadata": {
        "id": "n_89vivQbOSF"
      },
      "outputs": [],
      "source": [
        "from chembl_webresource_client.new_client import new_client\n",
        "import pandas as pd\n",
        "\n",
        "#ChEMBL endpoints\n",
        "target = new_client.target       #for querying targets\n",
        "activity = new_client.activity   #for activity data\n",
        "molecule = new_client.molecule   #for molecular info (SMILES, etc.)"
      ]
    },
    {
      "cell_type": "code",
      "source": [
        "#TKIs: fetch all binding assay activity data against EGFR WT\n",
        "#Controls: negative controls, only SMILES needed (no activity)\n",
        "\n",
        "#TKIs with ChEMBL IDs\n",
        "selected_ligands = [\n",
        "    {\"name\": \"Gefitinib\", \"chembl_id\": \"CHEMBL939\", \"type\": \"TKI\"},\n",
        "    {\"name\": \"Erlotinib\", \"chembl_id\": \"CHEMBL553\", \"type\": \"TKI\"},\n",
        "    {\"name\": \"Afatinib\", \"chembl_id\": \"CHEMBL1173655\", \"type\": \"TKI\"},\n",
        "    {\"name\": \"Mobocertinib\", \"chembl_id\": \"CHEMBL4650319\", \"type\": \"TKI\"},\n",
        "    {\"name\": \"Osimertinib\", \"chembl_id\": \"CHEMBL3353410\", \"type\": \"TKI\"}\n",
        "]\n",
        "\n",
        "#control ligands (manual SMILES)\n",
        "control_ligands = [\n",
        "    {\"name\": \"Aspirin\", \"chembl_id\": \"CHEMBL25\", \"canonical_smiles\": \"CC(=O)OC1=CC=CC=C1C(=O)O\", \"type\": \"control\"},\n",
        "    {\"name\": \"Caffeine\", \"chembl_id\": \"CHEMBL68\", \"canonical_smiles\": \"CN1C=NC2=C1C(=O)N(C(=O)N2C)C\", \"type\": \"control\"},\n",
        "    {\"name\": \"Ibuprofen\", \"chembl_id\": \"CHEMBL521\", \"canonical_smiles\": \"CC(C)CC1=CC=C(C=C1)C(C)C(=O)O\", \"type\": \"control\"}\n",
        "]\n",
        "\n",
        "all_ligands = selected_ligands + control_ligands\n",
        "ligand_data = []\n",
        "\n",
        "for ligand in all_ligands:\n",
        "    chembl_id = ligand[\"chembl_id\"]\n",
        "\n",
        "    #get canonical SMILES if missing (only for TKIs)\n",
        "    if ligand.get(\"type\") == \"TKI\" and \"canonical_smiles\" not in ligand:\n",
        "        try:\n",
        "            mol_info = molecule.get(chembl_id)\n",
        "            ligand[\"canonical_smiles\"] = mol_info.get(\"molecule_structures\", {}).get(\"canonical_smiles\")\n",
        "        except Exception as e:\n",
        "            print(f\"[SMILES] Failed for {ligand['name']} ({chembl_id}): {e}\")\n",
        "            ligand[\"canonical_smiles\"] = None\n",
        "\n",
        "    #fetch activity data for TKIs only\n",
        "    if ligand[\"type\"] == \"TKI\":\n",
        "        try:\n",
        "            results = activity.filter(\n",
        "                molecule_chembl_id=chembl_id,\n",
        "                target_chembl_id=\"CHEMBL203\",   #EGFR WT\n",
        "                assay_type=\"B\",                 #binding assays\n",
        "                standard_relation=\"=\"           #exact values\n",
        "            )\n",
        "            if results:\n",
        "                for r in results:\n",
        "                    ligand_data.append({\n",
        "                        \"chembl_id\": chembl_id,\n",
        "                        \"name\": ligand[\"name\"],\n",
        "                        \"canonical_smiles\": ligand.get(\"canonical_smiles\"),\n",
        "                        \"standard_type\": r.get(\"standard_type\"),\n",
        "                        \"standard_value\": r.get(\"standard_value\"),\n",
        "                        \"standard_units\": r.get(\"standard_units\")\n",
        "                    })\n",
        "            else:\n",
        "                #no activity found\n",
        "                ligand_data.append({\n",
        "                    \"chembl_id\": chembl_id,\n",
        "                    \"name\": ligand[\"name\"],\n",
        "                    \"canonical_smiles\": ligand.get(\"canonical_smiles\"),\n",
        "                    \"standard_type\": None,\n",
        "                    \"standard_value\": None,\n",
        "                    \"standard_units\": None\n",
        "                })\n",
        "        except Exception as e:\n",
        "            print(f\"[Activity] Failed for {ligand['name']} ({chembl_id}): {e}\")\n",
        "            ligand_data.append({\n",
        "                \"chembl_id\": chembl_id,\n",
        "                \"name\": ligand[\"name\"],\n",
        "                \"canonical_smiles\": ligand.get(\"canonical_smiles\"),\n",
        "                \"standard_type\": None,\n",
        "                \"standard_value\": None,\n",
        "                \"standard_units\": None\n",
        "            })\n",
        "    else:\n",
        "        #controls: just keep canonical SMILES, no activity\n",
        "        ligand_data.append({\n",
        "            \"chembl_id\": chembl_id,\n",
        "            \"name\": ligand[\"name\"],\n",
        "            \"canonical_smiles\": ligand.get(\"canonical_smiles\"),\n",
        "            \"standard_type\": None,\n",
        "            \"standard_value\": None,\n",
        "            \"standard_units\": None\n",
        "        })"
      ],
      "metadata": {
        "id": "OVpZbGNbSpLG"
      },
      "execution_count": null,
      "outputs": []
    },
    {
      "cell_type": "code",
      "source": [
        "df = pd.DataFrame(ligand_data)\n",
        "df = df.sort_values([\"name\", \"standard_type\"], ignore_index=True)\n",
        "df.to_csv(\"ligands_smiles.csv\", index=False)\n",
        "print(\"Saved ligands_smiles.csv\")"
      ],
      "metadata": {
        "id": "aACvtCm3eLJE"
      },
      "execution_count": null,
      "outputs": []
    },
    {
      "cell_type": "code",
      "source": [
        "print(df)"
      ],
      "metadata": {
        "id": "cDlKnsDzG8J7"
      },
      "execution_count": null,
      "outputs": []
    }
  ]
}
