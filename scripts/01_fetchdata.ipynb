{
  "nbformat": 4,
  "nbformat_minor": 0,
  "metadata": {
    "colab": {
      "provenance": [],
      "authorship_tag": "ABX9TyMFH/CfMiJp/iiJUeMRTDPw",
      "include_colab_link": true
    },
    "kernelspec": {
      "name": "python3",
      "display_name": "Python 3"
    },
    "language_info": {
      "name": "python"
    }
  },
  "cells": [
    {
      "cell_type": "markdown",
      "metadata": {
        "id": "view-in-github",
        "colab_type": "text"
      },
      "source": [
        "<a href=\"https://colab.research.google.com/github/win-eva/EGFR-TKI-Docking-Analysis/blob/main/scripts/01_fetchdata.ipynb\" target=\"_parent\"><img src=\"https://colab.research.google.com/assets/colab-badge.svg\" alt=\"Open In Colab\"/></a>"
      ]
    },
    {
      "cell_type": "markdown",
      "source": [
        "# **Fetching EGFR Proteins**\n",
        "\n",
        "## Wildtype\n",
        "- PDB 4WKQ (Gefitinib)\n",
        "- PDB 4G5J (Afatinib)\n",
        "- PDB 8F1X (Mobocertinib)\n",
        "\n",
        "## L858R\n",
        "- PDB 2ITZ (Gefitinib)\n",
        "- PDB 6JWL (Osimertinib)\n",
        "- PDB 2ITT (AEE788)  \n",
        "  *Note:* This structure was co-crystallised with AEE788, a second-generation EGFR TKI similar to Afatinib, providing a representative pocket conformation.\n",
        "\n",
        "## T790M\n",
        "- PDB 6JX0 (Osimertinib)\n",
        "- PDB 4G5P (Afatinib)\n",
        "- PDB 5GMP (XTF-262)  \n",
        "*Note:* XTF-262 serves as a surrogate for T790M-specific hinge binding due to lack of co-crystals with first-gen TKIs.\n",
        "\n",
        "## Exon20 Insertion\n",
        "- PDB 4LRM (PD168393)\n",
        "- PDB 9GC6 (A1IZ9)\n",
        "- PDB 9GL8 (STX-721)  \n",
        "*Notes:*  \n",
        "  - 4LRM was used as a first-generation reference.  \n",
        "  - A1IZ9 represents second/third-generation inhibitors.  \n",
        "  - STX-721 captures mutant-induced pocket geometry.\n",
        "\n"
      ],
      "metadata": {
        "id": "cbPM4tJEm8Xr"
      }
    },
    {
      "cell_type": "markdown",
      "source": [
        "## Downloading PDB Structures\n",
        "\n",
        "This cell automatically downloads all selected EGFR receptor structures into the `proteins/` folder."
      ],
      "metadata": {
        "id": "KowKwCEdfWYc"
      }
    },
    {
      "cell_type": "code",
      "source": [
        "import urllib.request\n",
        "import urllib.error\n",
        "import os\n",
        "\n",
        "# Folder to store the PDBs in\n",
        "os.makedirs(\"proteins\", exist_ok=True)\n",
        "\n",
        "# List of PDBs to fetch\n",
        "pdb_ids = {\n",
        "    \"EGFR_wt_4WKQ\": \"4WKQ\",\n",
        "    \"EGFR_wt_4G5J\": \"4G5J\",\n",
        "    \"EGFR_wt_8F1X\": \"8F1X\",\n",
        "    \"EGFR_L858R_2ITZ\": \"2ITZ\",\n",
        "    \"EGFR_L858R_6JWL\": \"6JWL\",\n",
        "    \"EGFR_L858R_2ITT\": \"2ITT\",\n",
        "    \"EGFR_T790M_6JX0\": \"6JX0\",\n",
        "    \"EGFR_T790M_4G5P\": \"4G5P\",\n",
        "    \"EGFR_T790M_5GMP\": \"5GMP\",\n",
        "    \"EGFR_exon20_4LRM\": \"4LRM\"\n",
        "}\n",
        "\n",
        "# Downloading PDBs\n",
        "for name, pdb_id in pdb_ids.items():\n",
        "    pdb_id = pdb_id.upper()\n",
        "    pdb_file = f\"proteins/{name}.pdb\"\n",
        "    url = f\"https://files.rcsb.org/download/{pdb_id}.pdb\"\n",
        "\n",
        "    try:\n",
        "        urllib.request.urlretrieve(url, pdb_file)\n",
        "        print(f\"Downloaded {pdb_file}\")\n",
        "    except urllib.error.HTTPError as e:\n",
        "        if e.code == 404:\n",
        "            print(f\"PDB ID {pdb_id} not found on RCSB. Skipping {name}.\")\n",
        "        else:\n",
        "            print(f\"Failed to download {pdb_id}: {e}\")\n",
        "\n",
        "print(\"Protein download process completed!\")"
      ],
      "metadata": {
        "colab": {
          "base_uri": "https://localhost:8080/"
        },
        "id": "4AfsgRsXnHu_",
        "outputId": "f7bd337b-1021-46d7-e5b4-5621cea71cd9"
      },
      "execution_count": 1,
      "outputs": [
        {
          "output_type": "stream",
          "name": "stdout",
          "text": [
            "Downloaded proteins/EGFR_wt_4WKQ.pdb\n",
            "Downloaded proteins/EGFR_wt_4G5J.pdb\n",
            "Downloaded proteins/EGFR_wt_8F1X.pdb\n",
            "Downloaded proteins/EGFR_L858R_2ITZ.pdb\n",
            "Downloaded proteins/EGFR_L858R_6JWL.pdb\n",
            "Downloaded proteins/EGFR_L858R_2ITT.pdb\n",
            "Downloaded proteins/EGFR_T790M_6JX0.pdb\n",
            "Downloaded proteins/EGFR_T790M_4G5P.pdb\n",
            "Downloaded proteins/EGFR_T790M_5GMP.pdb\n",
            "Downloaded proteins/EGFR_exon20_4LRM.pdb\n",
            "Protein download process completed!\n"
          ]
        }
      ]
    },
    {
      "cell_type": "markdown",
      "source": [
        "Two Exon20 Insertion structures (PDB 9GL8 + 9GC6) were only available in PDBx/mmCIF format. These were downloaded as .cif files and converted to .pdb using PyMOL to maintain consistency with the automated workflow for older structures."
      ],
      "metadata": {
        "id": "ZzFxfqqIS2QQ"
      }
    },
    {
      "cell_type": "markdown",
      "source": [
        "## **Fetching Ligand Structures**\n",
        "\n",
        "The following ligands are retrieved from ChEMBL or manually sourced (for controls).  \n",
        "**TKI ligands**: Gefitinib, Erlotinib, Afatinib, Mobocertinib, Osimertinib.  \n",
        "**Controls**: Aspirin, Caffeine, Ibuprofen.\n",
        "\n",
        "The following cells create a CSV file `selected_egfr_ligands_smiles.csv` containing canonical SMILES and activity data.\n"
      ],
      "metadata": {
        "id": "wZvQfLp1pPpG"
      }
    },
    {
      "cell_type": "code",
      "execution_count": 2,
      "metadata": {
        "colab": {
          "base_uri": "https://localhost:8080/"
        },
        "id": "n_89vivQbOSF",
        "outputId": "a2212c26-b4f5-4ef9-d25c-724be0b44339"
      },
      "outputs": [
        {
          "output_type": "stream",
          "name": "stdout",
          "text": [
            "Requirement already satisfied: chembl_webresource_client in /usr/local/lib/python3.12/dist-packages (0.10.9)\n",
            "Requirement already satisfied: urllib3 in /usr/local/lib/python3.12/dist-packages (from chembl_webresource_client) (2.5.0)\n",
            "Requirement already satisfied: requests>=2.18.4 in /usr/local/lib/python3.12/dist-packages (from chembl_webresource_client) (2.32.4)\n",
            "Requirement already satisfied: requests-cache~=1.2 in /usr/local/lib/python3.12/dist-packages (from chembl_webresource_client) (1.2.1)\n",
            "Requirement already satisfied: easydict in /usr/local/lib/python3.12/dist-packages (from chembl_webresource_client) (1.13)\n",
            "Requirement already satisfied: charset_normalizer<4,>=2 in /usr/local/lib/python3.12/dist-packages (from requests>=2.18.4->chembl_webresource_client) (3.4.3)\n",
            "Requirement already satisfied: idna<4,>=2.5 in /usr/local/lib/python3.12/dist-packages (from requests>=2.18.4->chembl_webresource_client) (3.10)\n",
            "Requirement already satisfied: certifi>=2017.4.17 in /usr/local/lib/python3.12/dist-packages (from requests>=2.18.4->chembl_webresource_client) (2025.8.3)\n",
            "Requirement already satisfied: attrs>=21.2 in /usr/local/lib/python3.12/dist-packages (from requests-cache~=1.2->chembl_webresource_client) (25.3.0)\n",
            "Requirement already satisfied: cattrs>=22.2 in /usr/local/lib/python3.12/dist-packages (from requests-cache~=1.2->chembl_webresource_client) (25.2.0)\n",
            "Requirement already satisfied: platformdirs>=2.5 in /usr/local/lib/python3.12/dist-packages (from requests-cache~=1.2->chembl_webresource_client) (4.4.0)\n",
            "Requirement already satisfied: url-normalize>=1.4 in /usr/local/lib/python3.12/dist-packages (from requests-cache~=1.2->chembl_webresource_client) (2.2.1)\n",
            "Requirement already satisfied: typing-extensions>=4.12.2 in /usr/local/lib/python3.12/dist-packages (from cattrs>=22.2->requests-cache~=1.2->chembl_webresource_client) (4.15.0)\n"
          ]
        }
      ],
      "source": [
        "!pip install chembl_webresource_client\n",
        "\n",
        "from chembl_webresource_client.new_client import new_client\n",
        "\n",
        "# Connect to target and activity endpoints\n",
        "target = new_client.target\n",
        "activity = new_client.activity"
      ]
    },
    {
      "cell_type": "code",
      "source": [
        "# ChEMBL clients\n",
        "activity = new_client.activity\n",
        "molecule = new_client.molecule\n",
        "\n",
        "# TKI ligands with ChEMBL IDs\n",
        "selected_ligands = [\n",
        "    {\"name\": \"Gefitinib\", \"molecule_chembl_id\": \"CHEMBL939\"},\n",
        "    {\"name\": \"Erlotinib\", \"molecule_chembl_id\": \"CHEMBL553\"},\n",
        "    {\"name\": \"Afatinib\", \"molecule_chembl_id\": \"CHEMBL1173655\"},\n",
        "    {\"name\": \"Mobocertinib\", \"molecule_chembl_id\": \"CHEMBL4650319\"},\n",
        "    {\"name\": \"Osimertinib\", \"molecule_chembl_id\": \"CHEMBL3353410\"}\n",
        "]\n",
        "\n",
        "# Control ligands with manually retrieved SMILES and ChEMBL IDs\n",
        "control_ligands = [\n",
        "    {\"name\": \"Aspirin\", \"molecule_chembl_id\": \"CHEMBL25\", \"canonical_smiles\": \"CC(=O)OC1=CC=CC=C1C(=O)O\"},\n",
        "    {\"name\": \"Caffeine\", \"molecule_chembl_id\": \"CHEMBL68\", \"canonical_smiles\": \"CN1C=NC2=C1C(=O)N(C(=O)N2C)C\"},\n",
        "    {\"name\": \"Ibuprofen\", \"molecule_chembl_id\": \"CHEMBL521\", \"canonical_smiles\": \"CC(C)CC1=CC=C(C=C1)C(C)C(=O)O\"}\n",
        "]\n",
        "\n",
        "all_ligands = selected_ligands + control_ligands\n",
        "ligand_data = []\n",
        "\n",
        "for ligand in all_ligands:\n",
        "    chembl_id = ligand['molecule_chembl_id']\n",
        "\n",
        "    # Fetch canonical SMILES for TKI ligands if missing\n",
        "    if 'canonical_smiles' not in ligand or ligand['canonical_smiles'] is None:\n",
        "        try:\n",
        "            mol_info = molecule.get(chembl_id)\n",
        "            ligand['canonical_smiles'] = mol_info.get('molecule_structures', {}).get('canonical_smiles')\n",
        "        except Exception as e:\n",
        "            print(f\"Failed to fetch SMILES for {ligand['name']} ({chembl_id}): {e}\")\n",
        "            ligand['canonical_smiles'] = None\n",
        "\n",
        "    try:\n",
        "        # Fetch activity only for TKIs\n",
        "        if chembl_id not in [\"CHEMBL25\", \"CHEMBL68\", \"CHEMBL521\"]:\n",
        "            res = activity.filter(\n",
        "                molecule_chembl_id=chembl_id,\n",
        "                target_chembl_id='CHEMBL203',  # EGFR wild-type\n",
        "                molecule_type=\"Small molecule\"\n",
        "            )\n",
        "            if res:\n",
        "                for r in res:\n",
        "                    ligand_data.append({\n",
        "                        'molecule_chembl_id': chembl_id,\n",
        "                        'name': ligand['name'],\n",
        "                        'canonical_smiles': ligand.get('canonical_smiles'),\n",
        "                        'standard_type': r.get('standard_type'),\n",
        "                        'standard_value': r.get('standard_value'),\n",
        "                        'standard_units': r.get('standard_units')\n",
        "                    })\n",
        "            else:\n",
        "                # TKI ligand with no activity data found\n",
        "                ligand_data.append({\n",
        "                    'molecule_chembl_id': chembl_id,\n",
        "                    'name': ligand['name'],\n",
        "                    'canonical_smiles': ligand.get('canonical_smiles'),\n",
        "                    'standard_type': None,\n",
        "                    'standard_value': None,\n",
        "                    'standard_units': None\n",
        "                })\n",
        "        else:\n",
        "            # Controls: just use manually set SMILES\n",
        "            ligand_data.append({\n",
        "                'molecule_chembl_id': chembl_id,\n",
        "                'name': ligand['name'],\n",
        "                'canonical_smiles': ligand['canonical_smiles'],\n",
        "                'standard_type': None,\n",
        "                'standard_value': None,\n",
        "                'standard_units': None\n",
        "            })\n",
        "\n",
        "    except Exception as e:\n",
        "        print(f\"Failed to fetch activity for {ligand['name']} ({chembl_id}): {e}\")\n",
        "        ligand_data.append({\n",
        "            'molecule_chembl_id': chembl_id,\n",
        "            'name': ligand['name'],\n",
        "            'canonical_smiles': ligand.get('canonical_smiles'),\n",
        "            'standard_type': None,\n",
        "            'standard_value': None,\n",
        "            'standard_units': None\n",
        "        })"
      ],
      "metadata": {
        "id": "_hSnAwnEcDlo"
      },
      "execution_count": 6,
      "outputs": []
    },
    {
      "cell_type": "code",
      "source": [
        "import pandas as pd\n",
        "\n",
        "df = pd.DataFrame(ligand_data)\n",
        "df.to_csv(\"selected_egfr_ligands_smiles.csv\", index=False)\n",
        "print(\"Saved selected_egfr_ligands_smiles.csv\")"
      ],
      "metadata": {
        "colab": {
          "base_uri": "https://localhost:8080/"
        },
        "id": "aACvtCm3eLJE",
        "outputId": "3b3473f1-e93f-4e62-cc91-c86831b14f03"
      },
      "execution_count": 7,
      "outputs": [
        {
          "output_type": "stream",
          "name": "stdout",
          "text": [
            "Saved selected_egfr_ligands_smiles.csv\n"
          ]
        }
      ]
    },
    {
      "cell_type": "code",
      "source": [
        "print(df)"
      ],
      "metadata": {
        "colab": {
          "base_uri": "https://localhost:8080/"
        },
        "id": "cDlKnsDzG8J7",
        "outputId": "a0acc7b3-73f0-4928-a0cd-3f06eb510fb2"
      },
      "execution_count": 8,
      "outputs": [
        {
          "output_type": "stream",
          "name": "stdout",
          "text": [
            "     molecule_chembl_id         name  \\\n",
            "0             CHEMBL939    Gefitinib   \n",
            "1             CHEMBL939    Gefitinib   \n",
            "2             CHEMBL939    Gefitinib   \n",
            "3             CHEMBL939    Gefitinib   \n",
            "4             CHEMBL939    Gefitinib   \n",
            "...                 ...          ...   \n",
            "1141      CHEMBL3353410  Osimertinib   \n",
            "1142      CHEMBL3353410  Osimertinib   \n",
            "1143           CHEMBL25      Aspirin   \n",
            "1144           CHEMBL68     Caffeine   \n",
            "1145          CHEMBL521    Ibuprofen   \n",
            "\n",
            "                                       canonical_smiles standard_type  \\\n",
            "0        COc1cc2ncnc(Nc3ccc(F)c(Cl)c3)c2cc1OCCCN1CCOCC1          IC50   \n",
            "1        COc1cc2ncnc(Nc3ccc(F)c(Cl)c3)c2cc1OCCCN1CCOCC1          IC50   \n",
            "2        COc1cc2ncnc(Nc3ccc(F)c(Cl)c3)c2cc1OCCCN1CCOCC1    Inhibition   \n",
            "3        COc1cc2ncnc(Nc3ccc(F)c(Cl)c3)c2cc1OCCCN1CCOCC1          IC50   \n",
            "4        COc1cc2ncnc(Nc3ccc(F)c(Cl)c3)c2cc1OCCCN1CCOCC1            Kd   \n",
            "...                                                 ...           ...   \n",
            "1141  C=CC(=O)Nc1cc(Nc2nccc(-c3cn(C)c4ccccc34)n2)c(O...    Inhibition   \n",
            "1142  C=CC(=O)Nc1cc(Nc2nccc(-c3cn(C)c4ccccc34)n2)c(O...          IC50   \n",
            "1143                           CC(=O)OC1=CC=CC=C1C(=O)O          None   \n",
            "1144                       CN1C=NC2=C1C(=O)N(C(=O)N2C)C          None   \n",
            "1145                      CC(C)CC1=CC=C(C=C1)C(C)C(=O)O          None   \n",
            "\n",
            "     standard_value standard_units  \n",
            "0             515.0             nM  \n",
            "1               1.0             nM  \n",
            "2              35.0              %  \n",
            "3              23.0             nM  \n",
            "4               1.8             nM  \n",
            "...             ...            ...  \n",
            "1141           None              %  \n",
            "1142          110.0             nM  \n",
            "1143           None           None  \n",
            "1144           None           None  \n",
            "1145           None           None  \n",
            "\n",
            "[1146 rows x 6 columns]\n"
          ]
        }
      ]
    },
    {
      "cell_type": "code",
      "source": [],
      "metadata": {
        "id": "1hDv3icWL7sR"
      },
      "execution_count": 5,
      "outputs": []
    }
  ]
}